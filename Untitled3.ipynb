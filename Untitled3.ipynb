{
  "nbformat": 4,
  "nbformat_minor": 0,
  "metadata": {
    "colab": {
      "provenance": [],
      "authorship_tag": "ABX9TyPWFZ8e/icH/FsKukfbfqTC",
      "include_colab_link": true
    },
    "kernelspec": {
      "name": "python3",
      "display_name": "Python 3"
    },
    "language_info": {
      "name": "python"
    }
  },
  "cells": [
    {
      "cell_type": "markdown",
      "metadata": {
        "id": "view-in-github",
        "colab_type": "text"
      },
      "source": [
        "<a href=\"https://colab.research.google.com/github/lic-nx/.NetRemouting_Daily_planner/blob/master/Untitled3.ipynb\" target=\"_parent\"><img src=\"https://colab.research.google.com/assets/colab-badge.svg\" alt=\"Open In Colab\"/></a>"
      ]
    },
    {
      "cell_type": "code",
      "execution_count": 9,
      "metadata": {
        "id": "ee_PYOQBluFM"
      },
      "outputs": [],
      "source": [
        "import numpy as np\n",
        "import matplotlib.pyplot as plt\n",
        "from scipy.spatial.distance import cdist\n",
        "from sklearn.cluster import KMeans"
      ]
    },
    {
      "cell_type": "markdown",
      "source": [
        "Кластеризация (или кластерный анализ) — это задача разбиения множества объектов на группы, называемые кластерами. Внутри каждой группы должны оказаться «похожие» объекты, а объекты разных группы должны быть как можно более отличны. Главное отличие кластеризации от классификации состоит в том, что перечень групп четко не задан и определяется в процессе работы алгоритма."
      ],
      "metadata": {
        "id": "XDd0-LfYnVVI"
      }
    },
    {
      "cell_type": "code",
      "source": [
        "# определим на плоскости три кластера точек\n",
        "X = np.zeros((150, 2))\n",
        "\n",
        "np.random.seed(seed=42)\n",
        "X[:50, 0] = np.random.normal(loc=0.0, scale=.3, size=50)\n",
        "X[:50, 1] = np.random.normal(loc=0.0, scale=.3, size=50)\n",
        "\n",
        "X[50:100, 0] = np.random.normal(loc=2.0, scale=.5, size=50)\n",
        "X[50:100, 1] = np.random.normal(loc=-1.0, scale=.2, size=50)\n",
        "\n",
        "X[100:150, 0] = np.random.normal(loc=-1.0, scale=.2, size=50)\n",
        "X[100:150, 1] = np.random.normal(loc=2.0, scale=.5, size=50)\n",
        "\n",
        "plt.figure(figsize=(5, 5))\n",
        "plt.plot(X[:, 0], X[:, 1], 'bo');\n"
      ],
      "metadata": {
        "colab": {
          "base_uri": "https://localhost:8080/",
          "height": 320
        },
        "id": "fZCPCoiNne_g",
        "outputId": "a2b8b15c-acf9-4b78-db40-de2653305fce"
      },
      "execution_count": 2,
      "outputs": [
        {
          "output_type": "display_data",
          "data": {
            "text/plain": [
              "<Figure size 360x360 with 1 Axes>"
            ],
            "image/png": "[encoded data removed]"
          },
          "metadata": {
            "needs_background": "light"
          }
        }
      ]
    },
    {
      "cell_type": "markdown",
      "source": [
        "this is a point generation"
      ],
      "metadata": {
        "id": "qXbLXH9zoQTS"
      }
    },
    {
      "cell_type": "code",
      "source": [
        "\n",
        "\n",
        "# Прибьём рандомность и определим три случайные центроиды для начала\n",
        "np.random.seed(seed=42)\n",
        "centroids = np.random.normal(loc=0.0, scale=1., size=6)\n",
        "centroids = centroids.reshape((3, 2))\n",
        "\n",
        "cent_history = []\n",
        "cent_history.append(centroids)\n",
        "\n",
        "for i in range(3):\n",
        "    # Считаем расстояния от наблюдений до центроид\n",
        "    distances = cdist(X, centroids)\n",
        "    # Смотрим, до какой центроиде каждой точке ближе всего\n",
        "    labels = distances.argmin(axis=1)\n",
        "\n",
        "    # Положим в каждую новую центроиду геометрический центр её точек\n",
        "    centroids = centroids.copy()\n",
        "    centroids[0, :] = np.mean(X[labels == 0, :], axis=0)\n",
        "    centroids[1, :] = np.mean(X[labels == 1, :], axis=0)\n",
        "    centroids[2, :] = np.mean(X[labels == 2, :], axis=0)\n",
        "\n",
        "    cent_history.append(centroids)\n",
        "    plt.figure(figsize=(8, 8))\n",
        "for i in range(4):\n",
        "    distances = cdist(X, cent_history[i])\n",
        "    labels = distances.argmin(axis=1)\n",
        "\n",
        "    plt.subplot(2, 2, i + 1)\n",
        "    plt.plot(X[labels == 0, 0], X[labels == 0, 1], 'bo', label='cluster #1')\n",
        "    plt.plot(X[labels == 1, 0], X[labels == 1, 1], 'co', label='cluster #2')\n",
        "    plt.plot(X[labels == 2, 0], X[labels == 2, 1], 'mo', label='cluster #3')\n",
        "    plt.plot(cent_history[i][:, 0], cent_history[i][:, 1], 'rX')\n",
        "    plt.legend(loc=0)\n",
        "    plt.title('Step {:}'.format(i + 1));\n",
        "\n"
      ],
      "metadata": {
        "colab": {
          "base_uri": "https://localhost:8080/",
          "height": 534
        },
        "id": "IHPmcKPnobQA",
        "outputId": "29b08a02-599b-4f63-be30-f8f03ef2dcd0"
      },
      "execution_count": 8,
      "outputs": [
        {
          "output_type": "display_data",
          "data": {
            "text/plain": [
              "<Figure size 576x576 with 0 Axes>"
            ]
          },
          "metadata": {}
        },
        {
          "output_type": "display_data",
          "data": {
            "text/plain": [
              "<Figure size 576x576 with 0 Axes>"
            ]
          },
          "metadata": {}
        },
        {
          "output_type": "display_data",
          "data": {
            "text/plain": [
              "<Figure size 576x576 with 4 Axes>"
            ],
            "image/png": "[encoded data removed]"
          },
          "metadata": {
            "needs_background": "light"
          }
        }
      ]
    },
    {
      "cell_type": "markdown",
      "source": [
        "Выбор числа кластеров для kMeans\n",
        "В отличие от задачи классификации или регрессии, в случае кластеризации сложнее выбрать критерий, с помощью которого было бы просто представить задачу кластеризации как задачу оптимизации.\n",
        "В случае k-Means распространен вот такой критерий – сумма квадратов расстояний от точек до центроидов кластеров, к которым они относятся.\n"
      ],
      "metadata": {
        "id": "Hxy84jQRpOaI"
      }
    },
    {
      "cell_type": "code",
      "source": [
        "\n",
        "\n",
        "inertia = []\n",
        "for k in range(1, 8):\n",
        "    kmeans = KMeans(n_clusters=k, random_state=1).fit(X)\n",
        "    inertia.append(np.sqrt(kmeans.inertia_))\n",
        "\n",
        "plt.plot(range(1, 8), inertia, marker='s');\n",
        "plt.xlabel('$k$')\n",
        "plt.ylabel('$J(C_k)$');\n"
      ],
      "metadata": {
        "colab": {
          "base_uri": "https://localhost:8080/",
          "height": 281
        },
        "id": "ri2LwmFdpIQp",
        "outputId": "8c879b6d-0d2c-42e9-b7d5-35d680cd0bec"
      },
      "execution_count": 10,
      "outputs": [
        {
          "output_type": "display_data",
          "data": {
            "text/plain": [
              "<Figure size 432x288 with 1 Axes>"
            ],
            "image/png": "[encoded data removed]"
          },
          "metadata": {
            "needs_background": "light"
          }
        }
      ]
    },
    {
      "cell_type": "markdown",
      "source": [
        "Видим, что J(Ck) падает сильно при увеличении числа кластеров с 1 до 2 и с 2 до 3 и уже не так сильно – при изменении k с 3 до 4. Значит, в данной задаче оптимально задать 3 кластера."
      ],
      "metadata": {
        "id": "CNA924TVpbiJ"
      }
    },
    {
      "cell_type": "code",
      "source": [
        "from scipy.cluster import hierarchy\n",
        "from scipy.spatial.distance import pdist\n",
        "\n",
        "X = np.zeros((150, 2))\n",
        "\n",
        "np.random.seed(seed=42)\n",
        "X[:50, 0] = np.random.normal(loc=0.0, scale=.3, size=50)\n",
        "X[:50, 1] = np.random.normal(loc=0.0, scale=.3, size=50)\n",
        "\n",
        "X[50:100, 0] = np.random.normal(loc=2.0, scale=.5, size=50)\n",
        "X[50:100, 1] = np.random.normal(loc=-1.0, scale=.2, size=50)\n",
        "\n",
        "X[100:150, 0] = np.random.normal(loc=-1.0, scale=.2, size=50)\n",
        "X[100:150, 1] = np.random.normal(loc=2.0, scale=.5, size=50)\n",
        "\n",
        "distance_mat = pdist(X) # pdist посчитает нам верхний треугольник матрицы попарных расстояний\n",
        "\n",
        "Z = hierarchy.linkage(distance_mat, 'single') # linkage — реализация агломеративного алгоритма\n",
        "plt.figure(figsize=(10, 5))\n",
        "dn = hierarchy.dendrogram(Z, color_threshold=0.5)\n"
      ],
      "metadata": {
        "colab": {
          "base_uri": "https://localhost:8080/",
          "height": 319
        },
        "id": "Kwerwd4apeBR",
        "outputId": "bfcfbdfb-1433-4d8c-f9fd-2fe09f0edf4a"
      },
      "execution_count": 11,
      "outputs": [
        {
          "output_type": "display_data",
          "data": {
            "text/plain": [
              "<Figure size 720x360 with 1 Axes>"
            ],
            "image/png": "[encoded data removed]"
          },
          "metadata": {
            "needs_background": "light"
          }
        }
      ]
    },
    {
      "cell_type": "markdown",
      "source": [
        "Агломеративная кластеризация\n",
        "Наверное самый простой и понятный алгоритм кластеризации без фиксированного числа кластеров — агломеративная кластеризация. Интуиция у алгоритма очень простая:\n",
        "\n",
        "\n",
        "1.\tНачинаем с того, что высыпаем на каждую точку свой кластер\n",
        "2.\tСортируем попарные расстояния между центрами кластеров по возрастанию\n",
        "3.\tБерём пару ближайших кластеров, склеиваем их в один и пересчитываем центр кластера\n",
        "4.\tПовторяем п. 2 и 3 до тех пор, пока все данные не склеятся в один кластер\n",
        "\n",
        "\n",
        "Сам процесс поиска ближайших кластеров может происходить с использованием разных методов объединения точек:\n",
        "\n",
        "\n",
        "1.\tSingle linkage — минимум попарных расстояний между точками из двух кластеров\n",
        " \n",
        "2.\tComplete linkage — максимум попарных расстояний между точками из двух кластеров\n",
        " \n",
        "3.\tAverage linkage — среднее попарных расстояний между точками из двух кластеров\n",
        " \n",
        "4.\tCentroid linkage — расстояние между центроидами двух кластеров\n"
      ],
      "metadata": {
        "id": "NziLozfZpmN4"
      }
    },
    {
      "cell_type": "markdown",
      "source": [],
      "metadata": {
        "id": "iV3R8-_ApwGy"
      }
    },
    {
      "cell_type": "markdown",
      "source": [
        "Adjusted Mutual Information (AMI)\n",
        "симметрична, не зависит от значений и перестановок меток. Определяется с использованием функции энтропии, интерпретируя разбиения выборки, как дискретные распределения (вероятность отнесения к кластеру равна доле объектов в нём). "
      ],
      "metadata": {
        "id": "DlCefHD9p0Uh"
      }
    },
    {
      "cell_type": "markdown",
      "source": [
        "Силуэт\n",
        "В отличие от описанных выше метрик, данный коэффициент не предполагает знания истинных меток объектов, и позволяет оценить качество кластеризации, используя только саму (неразмеченную) выборку и результат кластеризации. Сначала силуэт определяется отдельно для каждого объекта. Обозначим через   — среднее расстояние от данного объекта до объектов из того же кластера, через   — среднее расстояние от данного объекта до объектов из ближайшего кластера (отличного от того, в котором лежит сам объект). Тогда силуэтом данного объекта называется величина:\n",
        " Силуэтом выборки называется средняя величина силуэта объектов данной выборки. Таким образом, силуэт показывает, насколько среднее расстояние до объектов своего кластера отличается от среднего расстояния до объектов других кластеров. Данная величина лежит в диапазоне . Значения, близкие к -1, соответствуют плохим (разрозненным) кластеризациям, значения, близкие к нулю, говорят о том, что кластеры пересекаются и накладываются друг на друга, значения, близкие к 1, соответствуют \"плотным\" четко выделенным кластерам. Таким образом, чем больше силуэт, тем более четко выделены кластеры, и они представляют собой компактные, плотно сгруппированные облака точек.\n"
      ],
      "metadata": {
        "id": "osCKfCwEp_uA"
      }
    },
    {
      "cell_type": "code",
      "source": [
        "from sklearn import metrics\n",
        "from sklearn import datasets\n",
        "import pandas as pd\n",
        "from sklearn.cluster import KMeans, AgglomerativeClustering, AffinityPropagation, SpectralClustering\n",
        "\n",
        "data = datasets.load_digits()\n",
        "X, y = data.data, data.target\n",
        "\n",
        "algorithms = []\n",
        "algorithms.append(KMeans(n_clusters=10, random_state=1))\n",
        "algorithms.append(AffinityPropagation())\n",
        "algorithms.append(SpectralClustering(n_clusters=10, random_state=1,\n",
        "                                     affinity='nearest_neighbors'))\n",
        "algorithms.append(AgglomerativeClustering(n_clusters=10))\n",
        "\n",
        "data = []\n",
        "for algo in algorithms:\n",
        "    algo.fit(X)\n",
        "    data.append(({\n",
        "        'ARI': metrics.adjusted_rand_score(y, algo.labels_),\n",
        "        'AMI': metrics.adjusted_mutual_info_score(y, algo.labels_),\n",
        "        'Homogenity': metrics.homogeneity_score(y, algo.labels_),\n",
        "        'Completeness': metrics.completeness_score(y, algo.labels_),\n",
        "        'V-measure': metrics.v_measure_score(y, algo.labels_),\n",
        "        'Silhouette': metrics.silhouette_score(X, algo.labels_)}))\n",
        "\n",
        "results = pd.DataFrame(data=data, columns=['ARI', 'AMI', 'Homogenity',\n",
        "                                           'Completeness', 'V-measure', \n",
        "                                           'Silhouette'],\n",
        "                       index=['K-means', 'Affinity', \n",
        "                              'Spectral', 'Agglomerative'])\n",
        "results"
      ],
      "metadata": {
        "colab": {
          "base_uri": "https://localhost:8080/",
          "height": 175
        },
        "id": "_Cf7jDTmqAVo",
        "outputId": "e12a5781-bd6c-401e-998f-c9163f667327"
      },
      "execution_count": 15,
      "outputs": [
        {
          "output_type": "execute_result",
          "data": {
            "text/plain": [
              "                    ARI       AMI  Homogenity  Completeness  V-measure  \\\n",
              "K-means        0.662295  0.736567    0.735448      0.742972   0.739191   \n",
              "Affinity       0.175030  0.612402    0.958891      0.486845   0.645805   \n",
              "Spectral       0.756461  0.852040    0.831691      0.876614   0.853562   \n",
              "Agglomerative  0.794003  0.866832    0.857513      0.879096   0.868170   \n",
              "\n",
              "               Silhouette  \n",
              "K-means          0.182097  \n",
              "Affinity         0.115262  \n",
              "Spectral         0.182729  \n",
              "Agglomerative    0.178497  "
            ],
            "text/html": [
              "\n",
              "  <div id=\"df-e9fd1571-8ffd-4d18-90ec-93bf9b3e2ecd\">\n",
              "    <div class=\"colab-df-container\">\n",
              "      <div>\n",
              "<style scoped>\n",
              "    .dataframe tbody tr th:only-of-type {\n",
              "        vertical-align: middle;\n",
              "    }\n",
              "\n",
              "    .dataframe tbody tr th {\n",
              "        vertical-align: top;\n",
              "    }\n",
              "\n",
              "    .dataframe thead th {\n",
              "        text-align: right;\n",
              "    }\n",
              "</style>\n",
              "<table border=\"1\" class=\"dataframe\">\n",
              "  <thead>\n",
              "    <tr style=\"text-align: right;\">\n",
              "      <th></th>\n",
              "      <th>ARI</th>\n",
              "      <th>AMI</th>\n",
              "      <th>Homogenity</th>\n",
              "      <th>Completeness</th>\n",
              "      <th>V-measure</th>\n",
              "      <th>Silhouette</th>\n",
              "    </tr>\n",
              "  </thead>\n",
              "  <tbody>\n",
              "    <tr>\n",
              "      <th>K-means</th>\n",
              "      <td>0.662295</td>\n",
              "      <td>0.736567</td>\n",
              "      <td>0.735448</td>\n",
              "      <td>0.742972</td>\n",
              "      <td>0.739191</td>\n",
              "      <td>0.182097</td>\n",
              "    </tr>\n",
              "    <tr>\n",
              "      <th>Affinity</th>\n",
              "      <td>0.175030</td>\n",
              "      <td>0.612402</td>\n",
              "      <td>0.958891</td>\n",
              "      <td>0.486845</td>\n",
              "      <td>0.645805</td>\n",
              "      <td>0.115262</td>\n",
              "    </tr>\n",
              "    <tr>\n",
              "      <th>Spectral</th>\n",
              "      <td>0.756461</td>\n",
              "      <td>0.852040</td>\n",
              "      <td>0.831691</td>\n",
              "      <td>0.876614</td>\n",
              "      <td>0.853562</td>\n",
              "      <td>0.182729</td>\n",
              "    </tr>\n",
              "    <tr>\n",
              "      <th>Agglomerative</th>\n",
              "      <td>0.794003</td>\n",
              "      <td>0.866832</td>\n",
              "      <td>0.857513</td>\n",
              "      <td>0.879096</td>\n",
              "      <td>0.868170</td>\n",
              "      <td>0.178497</td>\n",
              "    </tr>\n",
              "  </tbody>\n",
              "</table>\n",
              "</div>\n",
              "      <button class=\"colab-df-convert\" onclick=\"convertToInteractive('df-e9fd1571-8ffd-4d18-90ec-93bf9b3e2ecd')\"\n",
              "              title=\"Convert this dataframe to an interactive table.\"\n",
              "              style=\"display:none;\">\n",
              "        \n",
              "  <svg xmlns=\"http://www.w3.org/2000/svg\" height=\"24px\"viewBox=\"0 0 24 24\"\n",
              "       width=\"24px\">\n",
              "    <path d=\"M0 0h24v24H0V0z\" fill=\"none\"/>\n",
              "    <path d=\"M18.56 5.44l.94 2.06.94-2.06 2.06-.94-2.06-.94-.94-2.06-.94 2.06-2.06.94zm-11 1L8.5 8.5l.94-2.06 2.06-.94-2.06-.94L8.5 2.5l-.94 2.06-2.06.94zm10 10l.94 2.06.94-2.06 2.06-.94-2.06-.94-.94-2.06-.94 2.06-2.06.94z\"/><path d=\"M17.41 7.96l-1.37-1.37c-.4-.4-.92-.59-1.43-.59-.52 0-1.04.2-1.43.59L10.3 9.45l-7.72 7.72c-.78.78-.78 2.05 0 2.83L4 21.41c.39.39.9.59 1.41.59.51 0 1.02-.2 1.41-.59l7.78-7.78 2.81-2.81c.8-.78.8-2.07 0-2.86zM5.41 20L4 18.59l7.72-7.72 1.47 1.35L5.41 20z\"/>\n",
              "  </svg>\n",
              "      </button>\n",
              "      \n",
              "  <style>\n",
              "    .colab-df-container {\n",
              "      display:flex;\n",
              "      flex-wrap:wrap;\n",
              "      gap: 12px;\n",
              "    }\n",
              "\n",
              "    .colab-df-convert {\n",
              "      background-color: #E8F0FE;\n",
              "      border: none;\n",
              "      border-radius: 50%;\n",
              "      cursor: pointer;\n",
              "      display: none;\n",
              "      fill: #1967D2;\n",
              "      height: 32px;\n",
              "      padding: 0 0 0 0;\n",
              "      width: 32px;\n",
              "    }\n",
              "\n",
              "    .colab-df-convert:hover {\n",
              "      background-color: #E2EBFA;\n",
              "      box-shadow: 0px 1px 2px rgba(60, 64, 67, 0.3), 0px 1px 3px 1px rgba(60, 64, 67, 0.15);\n",
              "      fill: #174EA6;\n",
              "    }\n",
              "\n",
              "    [theme=dark] .colab-df-convert {\n",
              "      background-color: #3B4455;\n",
              "      fill: #D2E3FC;\n",
              "    }\n",
              "\n",
              "    [theme=dark] .colab-df-convert:hover {\n",
              "      background-color: #434B5C;\n",
              "      box-shadow: 0px 1px 3px 1px rgba(0, 0, 0, 0.15);\n",
              "      filter: drop-shadow(0px 1px 2px rgba(0, 0, 0, 0.3));\n",
              "      fill: #FFFFFF;\n",
              "    }\n",
              "  </style>\n",
              "\n",
              "      <script>\n",
              "        const buttonEl =\n",
              "          document.querySelector('#df-e9fd1571-8ffd-4d18-90ec-93bf9b3e2ecd button.colab-df-convert');\n",
              "        buttonEl.style.display =\n",
              "          google.colab.kernel.accessAllowed ? 'block' : 'none';\n",
              "\n",
              "        async function convertToInteractive(key) {\n",
              "          const element = document.querySelector('#df-e9fd1571-8ffd-4d18-90ec-93bf9b3e2ecd');\n",
              "          const dataTable =\n",
              "            await google.colab.kernel.invokeFunction('convertToInteractive',\n",
              "                                                     [key], {});\n",
              "          if (!dataTable) return;\n",
              "\n",
              "          const docLinkHtml = 'Like what you see? Visit the ' +\n",
              "            '<a target=\"_blank\" href=https://colab.research.google.com/notebooks/data_table.ipynb>data table notebook</a>'\n",
              "            + ' to learn more about interactive tables.';\n",
              "          element.innerHTML = '';\n",
              "          dataTable['output_type'] = 'display_data';\n",
              "          await google.colab.output.renderOutput(dataTable, element);\n",
              "          const docLink = document.createElement('div');\n",
              "          docLink.innerHTML = docLinkHtml;\n",
              "          element.appendChild(docLink);\n",
              "        }\n",
              "      </script>\n",
              "    </div>\n",
              "  </div>\n",
              "  "
            ]
          },
          "metadata": {},
          "execution_count": 15
        }
      ]
    }
  ]
}